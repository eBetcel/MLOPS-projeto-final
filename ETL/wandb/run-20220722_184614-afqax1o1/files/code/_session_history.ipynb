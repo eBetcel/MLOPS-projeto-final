{
 "cells": [
  {
   "cell_type": "code",
   "execution_count": 1,
   "id": "94634686",
   "metadata": {},
   "outputs": [],
   "source": [
    "import wandb\n",
    "import matplotlib.pyplot as plt\n",
    "import seaborn as sns\n",
    "import pandas as pd\n",
    "import numpy as np\n",
    "from pandas_profiling import ProfileReport\n",
    "from sklearn.model_selection import train_test_split\n",
    "import tempfile\n",
    "import os\n",
    "import plotly.express as px"
   ]
  },
  {
   "cell_type": "code",
   "execution_count": 2,
   "id": "aba7e004",
   "metadata": {},
   "outputs": [],
   "source": [
    "import wandb\n",
    "import matplotlib.pyplot as plt\n",
    "import seaborn as sns\n",
    "import pandas as pd\n",
    "import numpy as np\n",
    "from sklearn.model_selection import train_test_split\n",
    "import tempfile\n",
    "import os\n",
    "import plotly.express as px"
   ]
  },
  {
   "cell_type": "code",
   "execution_count": 3,
   "id": "0f41584a",
   "metadata": {},
   "outputs": [],
   "source": [
    "import wandb\n",
    "import matplotlib.pyplot as plt\n",
    "import seaborn as sns\n",
    "import pandas as pd\n",
    "import numpy as np\n",
    "from sklearn.model_selection import train_test_split\n",
    "import tempfile\n",
    "import os\n",
    "import plotly.express as px"
   ]
  },
  {
   "cell_type": "code",
   "execution_count": 4,
   "id": "f4e40380",
   "metadata": {},
   "outputs": [
    {
     "name": "stdout",
     "output_type": "stream",
     "text": [
      "True"
     ]
    }
   ],
   "source": [
    "# Login to Weights & Biases\n",
    "wandb.login(relogin=True)"
   ]
  },
  {
   "cell_type": "code",
   "execution_count": 5,
   "id": "e7339622",
   "metadata": {},
   "outputs": [],
   "source": [
    "from scipy import stats\n",
    "from sklearn.preprocessing import MultiLabelBinarizer\n",
    "from scipy.stats import pointbiserialr"
   ]
  },
  {
   "cell_type": "code",
   "execution_count": 6,
   "id": "8a594874",
   "metadata": {},
   "outputs": [],
   "source": [
    "#CREATING PROJETCT ON WANDB\n",
    "df= pd.read_csv(\"listings.csv.gz\")\n",
    "df['price'] = pd.to_numeric(df['price'].str.replace(\",\",\"\").str.strip('$'))\n",
    "df.to_csv(\"raw_data.csv\",index=False)\n",
    "!wandb artifact put \\\n",
    "      --name mlops-final-project/raw_data.csv \\\n",
    "      --type raw_data \\\n",
    "      --description \"The raw data from of airbnb\" raw_data.csv"
   ]
  },
  {
   "cell_type": "code",
   "execution_count": 7,
   "id": "1e7e4c04",
   "metadata": {},
   "outputs": [
    {
     "data": {
      "text/html": [
       "Tracking run with wandb version 0.12.21"
      ],
      "text/plain": [
       "<IPython.core.display.HTML object>"
      ]
     },
     "metadata": {},
     "output_type": "display_data"
    },
    {
     "data": {
      "text/html": [
       "Run data is saved locally in <code>/home/ebetcel/workspace/MLOPS-projeto-final/ETL/wandb/run-20220722_184614-afqax1o1</code>"
      ],
      "text/plain": [
       "<IPython.core.display.HTML object>"
      ]
     },
     "metadata": {},
     "output_type": "display_data"
    },
    {
     "data": {
      "text/html": [
       "Syncing run <strong><a href=\"https://wandb.ai/ebetcel/mlops-final-project/runs/afqax1o1\" target=\"_blank\">rare-wood-2</a></strong> to <a href=\"https://wandb.ai/ebetcel/mlops-final-project\" target=\"_blank\">Weights & Biases</a> (<a href=\"https://wandb.me/run\" target=\"_blank\">docs</a>)<br/>"
      ],
      "text/plain": [
       "<IPython.core.display.HTML object>"
      ]
     },
     "metadata": {},
     "output_type": "display_data"
    }
   ],
   "source": [
    "# save_code tracking all changes of the notebook and sync with Wandb\n",
    "run = wandb.init(project=\"mlops-final-project\", save_code=True)\n",
    "# donwload the latest version of artifact raw_data.csv\n",
    "artifact = run.use_artifact(\"mlops-final-project/raw_data.csv:latest\")\n",
    "# create a dataframe from the artifact\n",
    "df = pd.read_csv(artifact.file())"
   ]
  },
  {
   "cell_type": "code",
   "execution_count": 8,
   "id": "fdc700d5",
   "metadata": {},
   "outputs": [
    {
     "name": "stdout",
     "output_type": "stream",
     "text": [
      "      id                         listing_url       scrape_id last_scraped  \\\n",
      "0  17878  https://www.airbnb.com/rooms/17878  20211224070558   2021-12-25   \n",
      "1  24480  https://www.airbnb.com/rooms/24480  20211224070558   2021-12-25   \n",
      "\n",
      "                                                name  \\\n",
      "0  Very Nice 2Br in Copacabana w. balcony, fast WiFi   \n",
      "1   Nice and cozy near Ipanema Beach, w/ home office   \n",
      "\n",
      "                                         description  \\\n",
      "0  Discounts for long term stays. <br />- Large b...   \n",
      "1  My studio is located in the best of Ipanema, t...   \n",
      "\n",
      "                               neighborhood_overview  \\\n",
      "0  This is the one of the bests spots in Rio. Bec...   \n",
      "1  The beach, the lagoon, Ipanema is a great loca...   \n",
      "\n",
      "                                         picture_url  host_id  \\\n",
      "0  https://a0.muscache.com/pictures/65320518/3069...    68997   \n",
      "1  https://a0.muscache.com/pictures/11955612/b28e...    99249   \n",
      "\n",
      "                                  host_url  ... review_scores_communication  \\\n",
      "0  https://www.airbnb.com/users/show/68997  ...                         4.9   \n",
      "1  https://www.airbnb.com/users/show/99249  ...                         4.9   \n",
      "\n",
      "  review_scores_location review_scores_value license instant_bookable  \\\n",
      "0                   4.76                4.66     NaN                f   \n",
      "1                   4.97                4.58     NaN                f   \n",
      "\n",
      "  calculated_host_listings_count calculated_host_listings_count_entire_homes  \\\n",
      "0                              1                                           1   \n",
      "1                              1                                           1   \n",
      "\n",
      "  calculated_host_listings_count_private_rooms  \\\n",
      "0                                            0   \n",
      "1                                            0   \n",
      "\n",
      "  calculated_host_listings_count_shared_rooms reviews_per_month  \n",
      "0                                           0              1.92  \n",
      "1                                           0              0.62  \n",
      "\n",
      "[2 rows x 74 columns]"
     ]
    }
   ],
   "source": [
    "df.head(2)"
   ]
  },
  {
   "cell_type": "code",
   "execution_count": 9,
   "id": "8bb5bb78",
   "metadata": {},
   "outputs": [
    {
     "name": "stdout",
     "output_type": "stream",
     "text": [
      "      id                         listing_url  \\\n",
      "0  17878  https://www.airbnb.com/rooms/17878   \n",
      "1  24480  https://www.airbnb.com/rooms/24480   \n",
      "\n",
      "                                                name  \\\n",
      "0  Very Nice 2Br in Copacabana w. balcony, fast WiFi   \n",
      "1   Nice and cozy near Ipanema Beach, w/ home office   \n",
      "\n",
      "                                         description  \\\n",
      "0  Discounts for long term stays. <br />- Large b...   \n",
      "1  My studio is located in the best of Ipanema, t...   \n",
      "\n",
      "                               neighborhood_overview  \\\n",
      "0  This is the one of the bests spots in Rio. Bec...   \n",
      "1  The beach, the lagoon, Ipanema is a great loca...   \n",
      "\n",
      "                                         picture_url  host_id  \\\n",
      "0  https://a0.muscache.com/pictures/65320518/3069...    68997   \n",
      "1  https://a0.muscache.com/pictures/11955612/b28e...    99249   \n",
      "\n",
      "                                  host_url host_name  host_since  \\\n",
      "0  https://www.airbnb.com/users/show/68997  Matthias  2010-01-08   \n",
      "1  https://www.airbnb.com/users/show/99249      Goya  2010-03-26   \n",
      "\n",
      "                                          host_about  \\\n",
      "0  I  am a  journalist/writer. Lived  in NYC for ...   \n",
      "1  Welcome to Rio!\\nI am a human being fighting f...   \n",
      "\n",
      "                                  host_thumbnail_url  \\\n",
      "0  https://a0.muscache.com/im/pictures/user/67b13...   \n",
      "1  https://a0.muscache.com/im/pictures/user/6b404...   \n",
      "\n",
      "                                    host_picture_url  latitude  longitude  \\\n",
      "0  https://a0.muscache.com/im/pictures/user/67b13... -22.96599  -43.17940   \n",
      "1  https://a0.muscache.com/im/pictures/user/6b404... -22.98405  -43.20189   \n",
      "\n",
      "                                           amenities first_review  \n",
      "0  [\"Bed linens\", \"Stove\", \"Elevator\", \"Cable TV\"...   2010-07-15  \n",
      "1  [\"Extra pillows and blankets\", \"Dining table\",...   2010-09-26  "
     ]
    }
   ],
   "source": [
    "cardCols = []\n",
    "for col in df.columns:\n",
    "    num = df[col].nunique()/df.shape[0]\n",
    "    if num > 0.1:\n",
    "        cardCols.append(col)\n",
    "df[cardCols].head(2)"
   ]
  },
  {
   "cell_type": "code",
   "execution_count": 10,
   "id": "b2b789f1",
   "metadata": {},
   "outputs": [
    {
     "name": "stdout",
     "output_type": "stream",
     "text": [
      "        scrape_id last_scraped  host_since  \\\n",
      "0  20211224070558   2021-12-25  2010-01-08   \n",
      "1  20211224070558   2021-12-25  2010-03-26   \n",
      "\n",
      "                                     host_location  host_response_time  \\\n",
      "0  Rio de Janeiro, State of Rio de Janeiro, Brazil      within an hour   \n",
      "1           Rio de Janeiro, Rio de Janeiro, Brazil  a few days or more   \n",
      "\n",
      "  host_response_rate host_acceptance_rate host_is_superhost  \\\n",
      "0               100%                  96%                 f   \n",
      "1               100%                 100%                 f   \n",
      "\n",
      "  host_neighbourhood  host_listings_count  ...  review_scores_communication  \\\n",
      "0         Copacabana                  2.0  ...                          4.9   \n",
      "1            Ipanema                  0.0  ...                          4.9   \n",
      "\n",
      "  review_scores_location review_scores_value license instant_bookable  \\\n",
      "0                   4.76                4.66     NaN                f   \n",
      "1                   4.97                4.58     NaN                f   \n",
      "\n",
      "  calculated_host_listings_count  calculated_host_listings_count_entire_homes  \\\n",
      "0                              1                                            1   \n",
      "1                              1                                            1   \n",
      "\n",
      "   calculated_host_listings_count_private_rooms  \\\n",
      "0                                             0   \n",
      "1                                             0   \n",
      "\n",
      "   calculated_host_listings_count_shared_rooms reviews_per_month  \n",
      "0                                            0              1.92  \n",
      "1                                            0              0.62  \n",
      "\n",
      "[2 rows x 62 columns]"
     ]
    }
   ],
   "source": [
    "## Dessas colunas as únicas de nosso interesse são  host_since,latitude,longitude,first_review\n",
    "[cardCols.remove(x) for x in ['host_since','latitude','longitude','first_review','amenities']]\n",
    "df = df.drop(cardCols, axis=1)\n",
    "df.head(2)"
   ]
  },
  {
   "cell_type": "code",
   "execution_count": 11,
   "id": "922e8e6d",
   "metadata": {},
   "outputs": [
    {
     "name": "stdout",
     "output_type": "stream",
     "text": [
      "license                         1.000000\n",
      "neighbourhood_group_cleansed    1.000000\n",
      "calendar_updated                1.000000\n",
      "bathrooms                       1.000000\n",
      "host_neighbourhood              0.479897\n",
      "neighbourhood                   0.461811\n",
      "review_scores_location          0.380341\n",
      "review_scores_accuracy          0.380301\n",
      "review_scores_cleanliness       0.380301\n",
      "review_scores_checkin           0.380301\n",
      "review_scores_communication     0.380260\n",
      "review_scores_value             0.380260\n",
      "first_review                    0.365025\n",
      "last_review                     0.365025\n",
      "review_scores_rating            0.365025\n",
      "reviews_per_month               0.365025\n",
      "host_acceptance_rate            0.230030\n",
      "host_response_time              0.158092\n",
      "host_response_rate              0.158092\n",
      "bedrooms                        0.060695\n",
      "dtype: float64"
     ]
    }
   ],
   "source": [
    "missing = (df.isna().sum()/len(df)).sort_values(ascending=False)\n",
    "missing[:20]"
   ]
  },
  {
   "cell_type": "code",
   "execution_count": 12,
   "id": "2840d33a",
   "metadata": {},
   "outputs": [
    {
     "name": "stdout",
     "output_type": "stream",
     "text": [
      "        scrape_id last_scraped  host_since  \\\n",
      "0  20211224070558   2021-12-25  2010-01-08   \n",
      "1  20211224070558   2021-12-25  2010-03-26   \n",
      "\n",
      "                                     host_location  host_response_time  \\\n",
      "0  Rio de Janeiro, State of Rio de Janeiro, Brazil      within an hour   \n",
      "1           Rio de Janeiro, Rio de Janeiro, Brazil  a few days or more   \n",
      "\n",
      "  host_response_rate host_acceptance_rate host_is_superhost  \\\n",
      "0               100%                  96%                 f   \n",
      "1               100%                 100%                 f   \n",
      "\n",
      "   host_listings_count  host_total_listings_count  ... availability_365  \\\n",
      "0                  2.0                        2.0  ...              257   \n",
      "1                  0.0                        0.0  ...              107   \n",
      "\n",
      "  calendar_last_scraped number_of_reviews number_of_reviews_ltm  \\\n",
      "0            2021-12-25               267                    10   \n",
      "1            2021-12-25                85                     0   \n",
      "\n",
      "   number_of_reviews_l30d  instant_bookable calculated_host_listings_count  \\\n",
      "0                       1                 f                              1   \n",
      "1                       0                 f                              1   \n",
      "\n",
      "  calculated_host_listings_count_entire_homes  \\\n",
      "0                                           1   \n",
      "1                                           1   \n",
      "\n",
      "   calculated_host_listings_count_private_rooms  \\\n",
      "0                                             0   \n",
      "1                                             0   \n",
      "\n",
      "  calculated_host_listings_count_shared_rooms  \n",
      "0                                           0  \n",
      "1                                           0  \n",
      "\n",
      "[2 rows x 46 columns]"
     ]
    }
   ],
   "source": [
    "df = df.drop(missing[missing > 0.35].index, axis=1)\n",
    "df.head(2)"
   ]
  },
  {
   "cell_type": "code",
   "execution_count": 13,
   "id": "45701b2d",
   "metadata": {},
   "outputs": [],
   "source": [
    "#Drop Useless\n",
    "df = df.drop(['scrape_id','last_scraped','host_location','calendar_last_scraped','host_verifications','property_type'], axis=1)"
   ]
  },
  {
   "cell_type": "code",
   "execution_count": 14,
   "id": "96bb1f71",
   "metadata": {},
   "outputs": [
    {
     "name": "stdout",
     "output_type": "stream",
     "text": [
      "host_acceptance_rate         0.230030\n",
      "host_response_rate           0.158092\n",
      "host_response_time           0.158092\n",
      "bedrooms                     0.060695\n",
      "beds                         0.014135\n",
      "bathrooms_text               0.002607\n",
      "host_has_profile_pic         0.000611\n",
      "host_since                   0.000611\n",
      "host_total_listings_count    0.000611\n",
      "host_listings_count          0.000611\n",
      "host_is_superhost            0.000611\n",
      "host_identity_verified       0.000611\n",
      "dtype: float64"
     ]
    }
   ],
   "source": [
    "missing = (df.isna().sum()/len(df)).sort_values(ascending=False)\n",
    "missing[missing.values > 0]"
   ]
  },
  {
   "cell_type": "code",
   "execution_count": 15,
   "id": "b1690a97",
   "metadata": {},
   "outputs": [],
   "source": [
    "#%%capture\n",
    "# Changin host since to month count\n",
    "df['host_since'] =  pd.to_datetime(df['host_since'], format='%Y-%m-%d')\n",
    "def diff_month(x):\n",
    "    curr_time = pd.to_datetime(\"now\")\n",
    "    return (x.year - curr_time.year) * 12 + x.month - curr_time.month\n",
    "df['host_since'] = df['host_since'].apply(lambda x: diff_month(x))"
   ]
  },
  {
   "cell_type": "code",
   "execution_count": 16,
   "id": "9a805c3a",
   "metadata": {},
   "outputs": [],
   "source": [
    "#Changing bathrooms text to numeric\n",
    "df.loc[df['bathrooms_text'].str.contains('half', na=False), 'bathrooms_text'] = '0.5'\n",
    "df['bathrooms_text'] = pd.to_numeric(df['bathrooms_text'].str.replace(\"[a-zA-Z\\s-]\",\"\"))"
   ]
  },
  {
   "cell_type": "code",
   "execution_count": 17,
   "id": "b00e8892",
   "metadata": {},
   "outputs": [],
   "source": [
    "## Removing Percentege\n",
    "for colName in ['host_response_rate','host_acceptance_rate']:\n",
    "    df[colName ] = df[colName ].str.rstrip('%').astype('float')/100.0"
   ]
  },
  {
   "cell_type": "code",
   "execution_count": 18,
   "id": "cfac2f23",
   "metadata": {},
   "outputs": [],
   "source": [
    "## Changin Categorical NA to mode\n",
    "for colName in ['host_has_profile_pic','host_is_superhost','host_identity_verified','host_response_time','host_since']:\n",
    "    df[colName ] = df[colName].fillna(df[colName].mode()[0])\n",
    "for colName in ['host_acceptance_rate','host_response_rate','bedrooms','beds',\n",
    "                'bathrooms_text','host_total_listings_count','host_listings_count']:\n",
    "    df[colName ] = df[colName].fillna(round(df[colName].mean(),2))"
   ]
  },
  {
   "cell_type": "code",
   "execution_count": 19,
   "id": "a599efd2",
   "metadata": {},
   "outputs": [
    {
     "name": "stdout",
     "output_type": "stream",
     "text": [
      "Series([], dtype: float64)"
     ]
    }
   ],
   "source": [
    "missing = (df.isna().sum()/len(df)).sort_values(ascending=False)\n",
    "missing[missing.values > 0]"
   ]
  },
  {
   "cell_type": "code",
   "execution_count": 20,
   "id": "da0142b2",
   "metadata": {},
   "outputs": [],
   "source": [
    "df['host_response_time']= df['host_response_time'].replace(['within an hour','within a few hours', 'within a day', 'a few days or more'],\n",
    "                        [1, 2,3,4])\n",
    "df['room_type']= df['room_type'].replace(['Shared room', 'Private room',  'Hotel room','Entire home/apt'],\n",
    "                        [1, 2,3,4])\n",
    "for colName in ['host_is_superhost','host_has_profile_pic','host_identity_verified','has_availability','instant_bookable']:\n",
    "    df[colName] = df[colName].replace(['f','t'],\n",
    "                            [0,1])"
   ]
  },
  {
   "cell_type": "code",
   "execution_count": 21,
   "id": "dded5284",
   "metadata": {},
   "outputs": [
    {
     "name": "stdout",
     "output_type": "stream",
     "text": [
      "   São Cristóvão  Joá  São Conrado  Ipanema  Leblon  Santa Cruz  \\\n",
      "0              0    0            0        0       0           0   \n",
      "1              0    0            0        1       0           0   \n",
      "\n",
      "   Barra da Tijuca  Alto da Boa Vista  Lagoa  Itanhangá  ...  Laranjeiras  \\\n",
      "0                0                  0      0          0  ...            0   \n",
      "1                0                  0      0          0  ...            0   \n",
      "\n",
      "   Camorim  Leme  Catete  Santa Teresa  Jacarepaguá  Tijuca  Flamengo  Centro  \\\n",
      "0        0     0       0             0            0       0         0       0   \n",
      "1        0     0       0             0            0       0         0       0   \n",
      "\n",
      "   Botafogo  \n",
      "0         0  \n",
      "1         0  \n",
      "\n",
      "[2 rows x 37 columns]"
     ]
    }
   ],
   "source": [
    "district= pd.get_dummies(df['neighbourhood_cleansed'])\n",
    "if 'dfdistrict' in locals() : del dfdistrict\n",
    "y = df['price']\n",
    "for colName in district.columns:\n",
    "    #calculate point-biserial correlation\n",
    "    x = district[colName]\n",
    "    corr, pVal = pointbiserialr(x, y)\n",
    "    dfTemp = {'column': colName, \n",
    "            'correlation': corr, \n",
    "            'pVal': pVal}\n",
    "    if 'dfdistrict' in locals():\n",
    "        dfdistrict = dfdistrict.append(dfTemp, ignore_index = True)\n",
    "    else:\n",
    "        dfdistrict=pd.DataFrame(dfTemp, index=[0])\n",
    "importantDistrict = dfdistrict.loc[dfdistrict['pVal'] < 0.5].sort_values(by='correlation', ascending=False)['column']\n",
    "districs = district[importantDistrict]\n",
    "districs.head(2)"
   ]
  },
  {
   "cell_type": "code",
   "execution_count": 22,
   "id": "decb286c",
   "metadata": {},
   "outputs": [],
   "source": [
    "listValues = df['amenities'].apply(lambda x: x.strip('][').split(', '))\n",
    "def myfunc(a):\n",
    "  return a.replace('\"','')\n",
    "df['amenities'] = listValues.apply(lambda x: list(map(myfunc, x)))\n",
    "\n",
    "mlb = MultiLabelBinarizer(sparse_output=True)\n",
    "\n",
    "dfAmenities = df['price'].to_frame().join(\n",
    "            pd.DataFrame.sparse.from_spmatrix(\n",
    "                mlb.fit_transform(df.pop('amenities')),\n",
    "                index=df.index,\n",
    "                columns=mlb.classes_))"
   ]
  },
  {
   "cell_type": "code",
   "execution_count": 23,
   "id": "df184fff",
   "metadata": {},
   "outputs": [],
   "source": [
    "if 'dfBi' in locals() : del dfBi \n",
    "    \n",
    "y = dfAmenities['price']\n",
    "for colName in dfAmenities.columns[1:]:\n",
    "    #calculate point-biserial correlation\n",
    "    x = dfAmenities[colName]\n",
    "    corr, pVal = pointbiserialr(x, y)\n",
    "    dfTemp = {'column': colName, \n",
    "            'correlation': corr, \n",
    "            'pVal': pVal}\n",
    "    if 'dfBi' in locals():\n",
    "        dfBi = dfBi.append(dfTemp, ignore_index = True)\n",
    "    else:\n",
    "        dfBi=pd.DataFrame(dfTemp, index=[0])\n",
    "        \n",
    "dfBi = dfBi.loc[dfBi['pVal'] < 0.5].sort_values(by='correlation', ascending=False)\n",
    "importantCols = dfBi['column']\n",
    "dfAmenities = dfAmenities[dfBi['column'].values]"
   ]
  },
  {
   "cell_type": "code",
   "execution_count": 24,
   "id": "9f376cd6",
   "metadata": {},
   "outputs": [
    {
     "name": "stdout",
     "output_type": "stream",
     "text": [
      "   Hot tub  Pool  Free parking on premises  Air conditioning  Beachfront  \\\n",
      "0        1     0                         0                 1           0   \n",
      "1        0     0                         0                 1           0   \n",
      "\n",
      "   Dishwasher  Bathtub  Dryer  Crib  TV with standard cable  ...  \\\n",
      "0           0        0      0     0                       1  ...   \n",
      "1           0        0      0     0                       1  ...   \n",
      "\n",
      "   Cleaning products  Host greets you  Extra pillows and blankets  \\\n",
      "0                  0                0                           0   \n",
      "1                  1                0                           1   \n",
      "\n",
      "   Luggage dropoff allowed  Ceiling fan  Cooking basics  \\\n",
      "0                        1            0               1   \n",
      "1                        0            1               0   \n",
      "\n",
      "   Dishes and silverware  Essentials  Hot water  Lock on bedroom door  \n",
      "0                      1           1          1                     0  \n",
      "1                      1           1          1                     0  \n",
      "\n",
      "[2 rows x 151 columns]"
     ]
    }
   ],
   "source": [
    "dfAmenities.head(2)"
   ]
  },
  {
   "cell_type": "code",
   "execution_count": 25,
   "id": "202b5b2d",
   "metadata": {},
   "outputs": [
    {
     "name": "stdout",
     "output_type": "stream",
     "text": [
      "       has_availability\n",
      "0                     1\n",
      "1                     1\n",
      "2                     1\n",
      "3                     1\n",
      "4                     1\n",
      "...                 ...\n",
      "24544                 1\n",
      "24545                 1\n",
      "24546                 1\n",
      "24547                 1\n",
      "24548                 1\n",
      "\n",
      "[24549 rows x 1 columns]"
     ]
    }
   ],
   "source": [
    "binary= df[['host_is_superhost','host_has_profile_pic','host_identity_verified','has_availability','instant_bookable']]\n",
    "y = df['price']\n",
    "if 'dfbinary' in locals() : del dfbinary \n",
    "for colName in binary.columns:\n",
    "    #calculate point-biserial correlation\n",
    "    x = binary[colName]\n",
    "    corr, pVal = pointbiserialr(x, y)\n",
    "    dfTemp = {'column': colName, \n",
    "            'correlation': corr, \n",
    "            'pVal': pVal}\n",
    "    if 'dfbinary' in locals():\n",
    "        dfbinary = dfbinary.append(dfTemp, ignore_index = True)\n",
    "    else:\n",
    "        dfbinary=pd.DataFrame(dfTemp, index=[0])\n",
    "importantbinary = dfbinary.loc[dfbinary['pVal'] < 0.5].sort_values(by='correlation', ascending=False)['column']\n",
    "binary = binary[importantbinary]\n",
    "binary"
   ]
  },
  {
   "cell_type": "code",
   "execution_count": 26,
   "id": "05de36df",
   "metadata": {},
   "outputs": [
    {
     "name": "stdout",
     "output_type": "stream",
     "text": [
      "       has_availability  Hot tub  Pool  Free parking on premises  \\\n",
      "0                     1        1     0                         0   \n",
      "1                     1        0     0                         0   \n",
      "2                     1        0     0                         0   \n",
      "3                     1        0     0                         0   \n",
      "4                     1        0     0                         0   \n",
      "...                 ...      ...   ...                       ...   \n",
      "24544                 1        0     0                         1   \n",
      "24545                 1        0     0                         0   \n",
      "24546                 1        0     0                         0   \n",
      "24547                 1        0     0                         0   \n",
      "24548                 1        0     0                         0   \n",
      "\n",
      "       Air conditioning  Beachfront  Dishwasher  Bathtub  Dryer  Crib  ...  \\\n",
      "0                     1           0           0        0      0     0  ...   \n",
      "1                     1           0           0        0      0     0  ...   \n",
      "2                     1           0           0        0      0     0  ...   \n",
      "3                     1           0           0        0      0     0  ...   \n",
      "4                     1           1           0        0      0     0  ...   \n",
      "...                 ...         ...         ...      ...    ...   ...  ...   \n",
      "24544                 1           0           0        0      0     0  ...   \n",
      "24545                 1           0           0        0      0     0  ...   \n",
      "24546                 0           0           0        0      0     0  ...   \n",
      "24547                 1           0           0        0      0     0  ...   \n",
      "24548                 1           1           0        0      0     0  ...   \n",
      "\n",
      "       Laranjeiras  Camorim  Leme  Catete  Santa Teresa  Jacarepaguá  Tijuca  \\\n",
      "0                0        0     0       0             0            0       0   \n",
      "1                0        0     0       0             0            0       0   \n",
      "2                0        0     0       0             0            0       0   \n",
      "3                0        0     0       0             0            0       0   \n",
      "4                0        0     0       0             0            0       0   \n",
      "...            ...      ...   ...     ...           ...          ...     ...   \n",
      "24544            0        0     0       0             0            0       0   \n",
      "24545            0        0     0       0             0            0       0   \n",
      "24546            0        0     1       0             0            0       0   \n",
      "24547            0        0     0       0             0            0       0   \n",
      "24548            0        0     0       0             0            0       0   \n",
      "\n",
      "       Flamengo  Centro  Botafogo  \n",
      "0             0       0         0  \n",
      "1             0       0         0  \n",
      "2             0       0         0  \n",
      "3             0       0         0  \n",
      "4             0       0         0  \n",
      "...         ...     ...       ...  \n",
      "24544         0       0         0  \n",
      "24545         1       0         0  \n",
      "24546         0       0         0  \n",
      "24547         0       0         0  \n",
      "24548         0       0         0  \n",
      "\n",
      "[24549 rows x 189 columns]"
     ]
    }
   ],
   "source": [
    "binary = binary.join(dfAmenities).join(districs)\n",
    "binary"
   ]
  },
  {
   "cell_type": "code",
   "execution_count": 27,
   "id": "7cd1eb55",
   "metadata": {},
   "outputs": [
    {
     "name": "stdout",
     "output_type": "stream",
     "text": [
      "       host_since  host_response_time  host_response_rate  \\\n",
      "0          -150.0                   1                1.00   \n",
      "1          -148.0                   4                1.00   \n",
      "2          -147.0                   3                0.80   \n",
      "3          -145.0                   1                1.00   \n",
      "4          -145.0                   1                1.00   \n",
      "...           ...                 ...                 ...   \n",
      "24544       -50.0                   1                0.79   \n",
      "24545       -95.0                   1                1.00   \n",
      "24546       -74.0                   1                0.79   \n",
      "24547       -86.0                   2                1.00   \n",
      "24548      -124.0                   2                0.91   \n",
      "\n",
      "       host_acceptance_rate  host_listings_count  host_total_listings_count  \\\n",
      "0                      0.96                  2.0                        2.0   \n",
      "1                      1.00                  0.0                        0.0   \n",
      "2                      0.41                  3.0                        3.0   \n",
      "3                      0.72                  1.0                        1.0   \n",
      "4                      0.97                  1.0                        1.0   \n",
      "...                     ...                  ...                        ...   \n",
      "24544                  0.72                  0.0                        0.0   \n",
      "24545                  1.00                  1.0                        1.0   \n",
      "24546                  0.72                  1.0                        1.0   \n",
      "24547                  0.98                  9.0                        9.0   \n",
      "24548                  0.61                 65.0                       65.0   \n",
      "\n",
      "       room_type  accommodates  bathrooms_text  bedrooms  ...  \\\n",
      "0              4             5             1.0       2.0  ...   \n",
      "1              4             2             1.0       1.0  ...   \n",
      "2              4             3             1.0       1.0  ...   \n",
      "3              4             2             1.5       1.0  ...   \n",
      "4              4             2             1.5       1.0  ...   \n",
      "...          ...           ...             ...       ...  ...   \n",
      "24544          4            10             3.0       4.0  ...   \n",
      "24545          4             4             1.0       1.0  ...   \n",
      "24546          4             8             2.0       3.0  ...   \n",
      "24547          4             6             1.0       1.0  ...   \n",
      "24548          4             3             1.0       1.0  ...   \n",
      "\n",
      "       availability_60  availability_90  availability_365  number_of_reviews  \\\n",
      "0                   22               24               257                267   \n",
      "1                    0                0               107                 85   \n",
      "2                   10               26               206                238   \n",
      "3                    0                0               207                181   \n",
      "4                    3                8                58                378   \n",
      "...                ...              ...               ...                ...   \n",
      "24544               60               90               365                  0   \n",
      "24545                3                3                 3                  1   \n",
      "24546               57               87               267                  0   \n",
      "24547               51               81                81                  0   \n",
      "24548               60               90               304                  0   \n",
      "\n",
      "       number_of_reviews_ltm  number_of_reviews_l30d  \\\n",
      "0                         10                       1   \n",
      "1                          0                       0   \n",
      "2                          0                       0   \n",
      "3                          0                       0   \n",
      "4                         32                       2   \n",
      "...                      ...                     ...   \n",
      "24544                      0                       0   \n",
      "24545                      1                       1   \n",
      "24546                      0                       0   \n",
      "24547                      0                       0   \n",
      "24548                      0                       0   \n",
      "\n",
      "       calculated_host_listings_count  \\\n",
      "0                                   1   \n",
      "1                                   1   \n",
      "2                                   1   \n",
      "3                                   1   \n",
      "4                                   1   \n",
      "...                               ...   \n",
      "24544                               1   \n",
      "24545                               4   \n",
      "24546                               1   \n",
      "24547                               4   \n",
      "24548                              78   \n",
      "\n",
      "       calculated_host_listings_count_entire_homes  \\\n",
      "0                                                1   \n",
      "1                                                1   \n",
      "2                                                1   \n",
      "3                                                1   \n",
      "4                                                1   \n",
      "...                                            ...   \n",
      "24544                                            1   \n",
      "24545                                            4   \n",
      "24546                                            1   \n",
      "24547                                            4   \n",
      "24548                                           78   \n",
      "\n",
      "       calculated_host_listings_count_private_rooms  \\\n",
      "0                                                 0   \n",
      "1                                                 0   \n",
      "2                                                 0   \n",
      "3                                                 0   \n",
      "4                                                 0   \n",
      "...                                             ...   \n",
      "24544                                             0   \n",
      "24545                                             0   \n",
      "24546                                             0   \n",
      "24547                                             0   \n",
      "24548                                             0   \n",
      "\n",
      "       calculated_host_listings_count_shared_rooms  \n",
      "0                                                0  \n",
      "1                                                0  \n",
      "2                                                0  \n",
      "3                                                0  \n",
      "4                                                0  \n",
      "...                                            ...  \n",
      "24544                                            0  \n",
      "24545                                            0  \n",
      "24546                                            0  \n",
      "24547                                            0  \n",
      "24548                                            0  \n",
      "\n",
      "[24549 rows x 31 columns]"
     ]
    }
   ],
   "source": [
    "notOrdinal = ['host_is_superhost','host_has_profile_pic','host_identity_verified','has_availability','instant_bookable',\n",
    "              'neighbourhood_cleansed','latitude','longitude']\n",
    "df = df.drop(columns=notOrdinal)\n",
    "df"
   ]
  },
  {
   "cell_type": "code",
   "execution_count": 28,
   "id": "f7513c7f",
   "metadata": {},
   "outputs": [],
   "source": [
    "#ProfileReport(df, title=\"Pandas Profiling Report\").to_file(\"report.html\")"
   ]
  },
  {
   "cell_type": "code",
   "execution_count": 29,
   "id": "f35cb4c9",
   "metadata": {},
   "outputs": [],
   "source": [
    "df = df.drop(['maximum_nights_avg_ntm','maximum_maximum_nights','minimum_maximum_nights','maximum_minimum_nights',\n",
    "        'minimum_minimum_nights','maximum_nights','minimum_nights','availability_30','availability_60',\n",
    "         'calculated_host_listings_count_private_rooms'], axis=1)"
   ]
  },
  {
   "cell_type": "code",
   "execution_count": 30,
   "id": "c213089d",
   "metadata": {},
   "outputs": [],
   "source": [
    "df = df.join(binary)"
   ]
  },
  {
   "cell_type": "code",
   "execution_count": 31,
   "id": "da9f21df",
   "metadata": {},
   "outputs": [
    {
     "name": "stdout",
     "output_type": "stream",
     "text": [
      "       host_since  host_response_time  host_response_rate  \\\n",
      "0          -150.0                   1                1.00   \n",
      "1          -148.0                   4                1.00   \n",
      "2          -147.0                   3                0.80   \n",
      "3          -145.0                   1                1.00   \n",
      "4          -145.0                   1                1.00   \n",
      "...           ...                 ...                 ...   \n",
      "24544       -50.0                   1                0.79   \n",
      "24545       -95.0                   1                1.00   \n",
      "24546       -74.0                   1                0.79   \n",
      "24547       -86.0                   2                1.00   \n",
      "24548      -124.0                   2                0.91   \n",
      "\n",
      "       host_acceptance_rate  host_listings_count  host_total_listings_count  \\\n",
      "0                      0.96                  2.0                        2.0   \n",
      "1                      1.00                  0.0                        0.0   \n",
      "2                      0.41                  3.0                        3.0   \n",
      "3                      0.72                  1.0                        1.0   \n",
      "4                      0.97                  1.0                        1.0   \n",
      "...                     ...                  ...                        ...   \n",
      "24544                  0.72                  0.0                        0.0   \n",
      "24545                  1.00                  1.0                        1.0   \n",
      "24546                  0.72                  1.0                        1.0   \n",
      "24547                  0.98                  9.0                        9.0   \n",
      "24548                  0.61                 65.0                       65.0   \n",
      "\n",
      "       room_type  accommodates  bathrooms_text  bedrooms  ...  Laranjeiras  \\\n",
      "0              4             5             1.0       2.0  ...            0   \n",
      "1              4             2             1.0       1.0  ...            0   \n",
      "2              4             3             1.0       1.0  ...            0   \n",
      "3              4             2             1.5       1.0  ...            0   \n",
      "4              4             2             1.5       1.0  ...            0   \n",
      "...          ...           ...             ...       ...  ...          ...   \n",
      "24544          4            10             3.0       4.0  ...            0   \n",
      "24545          4             4             1.0       1.0  ...            0   \n",
      "24546          4             8             2.0       3.0  ...            0   \n",
      "24547          4             6             1.0       1.0  ...            0   \n",
      "24548          4             3             1.0       1.0  ...            0   \n",
      "\n",
      "       Camorim  Leme  Catete  Santa Teresa  Jacarepaguá  Tijuca  Flamengo  \\\n",
      "0            0     0       0             0            0       0         0   \n",
      "1            0     0       0             0            0       0         0   \n",
      "2            0     0       0             0            0       0         0   \n",
      "3            0     0       0             0            0       0         0   \n",
      "4            0     0       0             0            0       0         0   \n",
      "...        ...   ...     ...           ...          ...     ...       ...   \n",
      "24544        0     0       0             0            0       0         0   \n",
      "24545        0     0       0             0            0       0         1   \n",
      "24546        0     1       0             0            0       0         0   \n",
      "24547        0     0       0             0            0       0         0   \n",
      "24548        0     0       0             0            0       0         0   \n",
      "\n",
      "       Centro  Botafogo  \n",
      "0           0         0  \n",
      "1           0         0  \n",
      "2           0         0  \n",
      "3           0         0  \n",
      "4           0         0  \n",
      "...       ...       ...  \n",
      "24544       0         0  \n",
      "24545       0         0  \n",
      "24546       0         0  \n",
      "24547       0         0  \n",
      "24548       0         0  \n",
      "\n",
      "[24549 rows x 210 columns]"
     ]
    }
   ],
   "source": [
    "df"
   ]
  },
  {
   "cell_type": "code",
   "execution_count": 32,
   "id": "3c9a96b3",
   "metadata": {},
   "outputs": [],
   "source": [
    "# Save the artifacts. We use a temporary directory so we do not leave\n",
    "# any trace behind\n",
    "\n",
    "with tempfile.TemporaryDirectory() as tmp_dir:\n",
    "        # Make the artifact name from the provided root plus the name of the split\n",
    "        artifact_name = \"preprocessed_data.csv\"\n",
    "        # Get the path on disk within the temp directory\n",
    "        temp_path = os.path.join(tmp_dir, artifact_name)\n",
    "        # Save then upload to W&B\n",
    "        df.to_csv(temp_path,index=False)\n",
    "        artifact = wandb.Artifact(\n",
    "            name=artifact_name,\n",
    "            type=\"raw_data\",\n",
    "            description=f\"preprocessed data of dataset mlops-final-project/raw_data.csv:latest\",\n",
    "        )\n",
    "        artifact.add_file(temp_path)\n",
    "        run.log_artifact(artifact)\n",
    "        # This waits for the artifact to be uploaded to W&B. If you\n",
    "        # do not add this, the temp directory might be removed before\n",
    "        # W&B had a chance to upload the datasets, and the upload\n",
    "        # might fail\n",
    "        artifact.wait()"
   ]
  },
  {
   "cell_type": "code",
   "execution_count": 33,
   "id": "2bdc6802",
   "metadata": {},
   "outputs": [],
   "source": [
    "run.finish()"
   ]
  }
 ],
 "metadata": {
  "kernelspec": {
   "display_name": "Python 3",
   "language": "python",
   "name": "python3"
  },
  "language_info": {
   "codemirror_mode": {
    "name": "ipython",
    "version": 3
   },
   "file_extension": ".py",
   "mimetype": "text/x-python",
   "name": "python",
   "nbconvert_exporter": "python",
   "pygments_lexer": "ipython3",
   "version": "3.8.13"
  }
 },
 "nbformat": 4,
 "nbformat_minor": 5
}
